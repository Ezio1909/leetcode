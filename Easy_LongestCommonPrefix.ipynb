{
 "cells": [
  {
   "cell_type": "markdown",
   "metadata": {},
   "source": [
    "\n",
    "Code\n",
    "Testcase\n",
    "Test Result\n",
    "Test Result\n",
    "14. Longest Common Prefix\n",
    "Easy\n",
    "Topics\n",
    "Companies\n",
    "Write a function to find the longest common prefix string amongst an array of strings.\n",
    "\n",
    "If there is no common prefix, return an empty string \"\".\n",
    "\n",
    " \n",
    "\n",
    "Example 1:\n",
    "\n",
    "Input: strs = [\"flower\",\"flow\",\"flight\"]\n",
    "Output: \"fl\"\n",
    "Example 2:\n",
    "\n",
    "Input: strs = [\"dog\",\"racecar\",\"car\"]\n",
    "Output: \"\"\n",
    "Explanation: There is no common prefix among the input strings."
   ]
  },
  {
   "cell_type": "code",
   "execution_count": 52,
   "metadata": {},
   "outputs": [],
   "source": [
    "from typing import List"
   ]
  },
  {
   "cell_type": "code",
   "execution_count": 61,
   "metadata": {},
   "outputs": [],
   "source": [
    "class Solution:\n",
    "    def findCommonPrefix(self, str1: str, str2: str) -> str:\n",
    "        output = \"\"\n",
    "        idx = 0\n",
    "        while idx < len(str1) and idx < len(str2):\n",
    "            if str1[idx] == str2[idx]:\n",
    "                output += str1[idx]\n",
    "            else:\n",
    "                break\n",
    "            idx += 1\n",
    "        return output\n",
    "\n",
    "    def longestCommonPrefix(self, strs: List[str]) -> str:\n",
    "        output = strs[0]\n",
    "        for i in range(1, len(strs)):\n",
    "            common = self.findCommonPrefix(output, strs[i])\n",
    "            if i==1 and common == \"\":\n",
    "                return common\n",
    "            elif common == output == \"\":\n",
    "                return output\n",
    "            else:\n",
    "                output = common\n",
    "        return output"
   ]
  }
 ],
 "metadata": {
  "kernelspec": {
   "display_name": "Python 3",
   "language": "python",
   "name": "python3"
  },
  "language_info": {
   "codemirror_mode": {
    "name": "ipython",
    "version": 3
   },
   "file_extension": ".py",
   "mimetype": "text/x-python",
   "name": "python",
   "nbconvert_exporter": "python",
   "pygments_lexer": "ipython3",
   "version": "3.11.6"
  }
 },
 "nbformat": 4,
 "nbformat_minor": 2
}
